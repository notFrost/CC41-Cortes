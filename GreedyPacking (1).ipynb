{
 "cells": [
  {
   "cell_type": "code",
   "execution_count": 2,
   "metadata": {},
   "outputs": [],
   "source": [
    "def getVol(coor):\n",
    "    return coor[0]*coor[1]*coor[2]"
   ]
  },
  {
   "cell_type": "code",
   "execution_count": 3,
   "metadata": {},
   "outputs": [],
   "source": [
    "def sort(coor, ID):\n",
    "    n = len(coor)\n",
    "    for i in range(n):\n",
    "        for j in range(0, n-i-1):\n",
    "            if getVol(coor[j]) > getVol(coor[j + 1]):\n",
    "                coor[j], coor[j+1] = coor[j+1], coor[j]\n",
    "                ID[j], ID[j+1] = ID[j+1], ID[j]"
   ]
  },
  {
   "cell_type": "code",
   "execution_count": 4,
   "metadata": {},
   "outputs": [],
   "source": [
    "def Ingresar():\n",
    "    contH, contL, contA = input().split()\n",
    "    cant = int(input())\n",
    "    IDArr = []\n",
    "    CoorArr = []\n",
    "    for i in range(cant):\n",
    "        n, ID, pH, pL, pA = input().split()\n",
    "        for i in range(int(n)):\n",
    "            IDArr.append(ID)\n",
    "            CoorArr.append((int(pH), int(pL), int(pA)))\n",
    "    return (int(contH) * int(contL)* int(contA)), len(IDArr), IDArr, CoorArr"
   ]
  },
  {
   "cell_type": "code",
   "execution_count": 5,
   "metadata": {},
   "outputs": [],
   "source": [
    "def Poblar():\n",
    "    nCont = 2\n",
    "    VT = 30\n",
    "    VD = VT*nCont\n",
    "    VO = 32\n",
    "    VOP = (VO/VD)*100\n",
    "    nCajas = 6\n",
    "    Ubicacion = [1,1,1,1,1,6]\n",
    "    Formato = ['C','A','A','B','B','B']\n",
    "    Coordenadas = [(0,1,5),(2,1,2),(2,1,4),(0,2,2),(0,2,5),(0,1,3)]\n",
    "    Orientacion =[1,1,1,2,1,1]\n",
    "    return nCont,  VT,  VD,  VO,  VOP,  nCajas,  Ubicacion,  Formato,  Coordenadas,  Orientacion"
   ]
  },
  {
   "cell_type": "code",
   "execution_count": 6,
   "metadata": {},
   "outputs": [],
   "source": [
    "def Escribir(nCont,  VT,  VD,  VO,  VOP,  nCajas,  Ubicacion,  Formato,  Coordenadas,  Orientacion):\n",
    "    archivo = open(\"Output.txt\", \"w\")\n",
    "    \n",
    "    archivo.write('Contenedores usados: {0}\\n'.format(nCont))\n",
    "    archivo.write('Volumen disponible: {0} m2\\n'.format(VD))\n",
    "    archivo.write('Volumen ocupado: {0} m2 ({1}%)\\n'.format(VO, VOP))\n",
    "    archivo.write('Cajas a trasportar: {0}\\n'.format(nCajas))\n",
    "    archivo.write('Contenedor Formato Coordenadas Orientacion\\n')\n",
    "    for i in range(nCajas):\n",
    "        archivo.write('{0} {1} {2} {3} \\n'.format(Ubicacion[i], Formato[i], Coordenadas[i], Orientacion[i]))\n",
    "    archivo.close()"
   ]
  },
  {
   "cell_type": "code",
   "execution_count": 7,
   "metadata": {},
   "outputs": [],
   "source": [
    "def NewContainer(Containers):\n",
    "    newContainer = []\n",
    "    Containers.append(newContainer)\n",
    "    return Containers"
   ]
  },
  {
   "cell_type": "code",
   "execution_count": 8,
   "metadata": {},
   "outputs": [],
   "source": [
    "def PlaceBottom(box, container):\n",
    "    NewBox = [box[4],box[5],box[6],box[7], box[4] + (0,h,0),box[5] + (0,h,0) ,box[6] + (0,h,0),box[7] + (0,h,0)]\n",
    "    container.append(NewBox)\n",
    "    return container\n",
    "\n",
    "def PlaceRight(box, container):\n",
    "    NewBox = [box[1],box[1] + (a,0,0) ,box[3] ,box[3] + (a,0,0), box[5] ,box[5] + (a,0,0) ,box[7] ,box[7] + (a,0,0)]\n",
    "    container.append(NewBox)\n",
    "    return container\n",
    "\n",
    "def PlaceFront(box, container):\n",
    "    NewBox = [box[2],box[3],box[6],box[7], box[2] + (0,0,l),box[3] + (0,0,l) ,box[6] + (0,0,l),box[7] + (0,0,l)]\n",
    "    container.append(NewBox)\n",
    "    return container"
   ]
  },
  {
   "cell_type": "code",
   "execution_count": 9,
   "metadata": {},
   "outputs": [],
   "source": [
    "def Rotar(a, h, l, i):\n",
    "    x, y, z = a, h, l\n",
    "    a, h, l = z, y, x\n",
    "    if i % 2 != 0:\n",
    "        h, l, a = x, y, z\n",
    "        "
   ]
  },
  {
   "cell_type": "code",
   "execution_count": 10,
   "metadata": {},
   "outputs": [],
   "source": [
    "def Fits(l,h,a,container,V):\n",
    "    r = int(V**(1./3.))\n",
    "    if len(container) == 0:\n",
    "        NewBox = [(0,0,0),(a,0,0),(0,0,l),(a,0,l), (0,h,0) ,(a,h,0) ,(0,h,l),(a,h,l)]\n",
    "        container.append(NewBox)\n",
    "        return True\n",
    "    for box in container:\n",
    "        if l + box[1][2] < r:\n",
    "            container = PlaceFront(box, container)\n",
    "            return True\n",
    "        if h + box[5][1] < r:\n",
    "            PlaceBottom(box, container)\n",
    "            return True\n",
    "        if a + box[3][0] < r:\n",
    "            PlaceRight(box, container)\n",
    "            return True\n",
    "    return False "
   ]
  },
  {
   "cell_type": "code",
   "execution_count": 13,
   "metadata": {},
   "outputs": [],
   "source": [
    "def GreedyPack(nCont,  VT, VO,  nCajas, Coordenadas, Ubicacion, Orientacion, Containers):\n",
    "    Containers = NewContainer(Containers)\n",
    "    for i in range(nCajas):\n",
    "        l, h, a = Coordenadas[i]\n",
    "        while(Orientacion[i] < 6):\n",
    "            if(Fits(l, h, a, Containers[nCont-1], VT) == False):\n",
    "                Orientacion[i] += 1\n",
    "                Rotar(a, h, l, Orientacion[i])\n",
    "            else:\n",
    "                Coordenadas[i] = (Containers[nCont-1][-1][0])\n",
    "                VO += (l*h*a)\n",
    "                break\n",
    "        if (Orientacion[i] == 6):\n",
    "            Containers = NewContainer(Containers)\n",
    "            Orientacion[i] = 1\n",
    "            Fits(l, h, a, Containers[nCont-1], VT)\n",
    "            nCont += 1\n",
    "            Ubicacion[i] += 1\n",
    "    return VO, nCont"
   ]
  },
  {
   "cell_type": "code",
   "execution_count": 14,
   "metadata": {},
   "outputs": [],
   "source": [
    "def Packing():\n",
    "    Containers = []\n",
    "    VT, nCajas, Formato, Coordenadas = Ingresar()\n",
    "    Orientacion = [1]*nCajas\n",
    "    Ubicacion = [1]*nCajas\n",
    "    VO = 0\n",
    "    nCont = 1\n",
    "    sort(Coordenadas, Formato)\n",
    "    VO, nCont = GreedyPack(nCont,  VT, VO,  nCajas, Coordenadas, Ubicacion, Orientacion, Containers)\n",
    "    VD = VT*nCont\n",
    "    VOP = (VO/VD)*100\n",
    "    Escribir(nCont,  VT,  VD,  VO,  VOP,  nCajas,  Ubicacion,  Formato,  Coordenadas,  Orientacion)"
   ]
  },
  {
   "cell_type": "code",
   "execution_count": 189,
   "metadata": {},
   "outputs": [
    {
     "name": "stdin",
     "output_type": "stream",
     "text": [
      " 2 2 3\n",
      " 2\n",
      " 3 A 2 1 1\n",
      " 2 B 1 1 1\n"
     ]
    }
   ],
   "source": [
    "Packing()"
   ]
  },
  {
   "cell_type": "code",
   "execution_count": null,
   "metadata": {},
   "outputs": [],
   "source": []
  }
 ],
 "metadata": {
  "kernelspec": {
   "display_name": "Python 3",
   "language": "python",
   "name": "python3"
  },
  "language_info": {
   "codemirror_mode": {
    "name": "ipython",
    "version": 3
   },
   "file_extension": ".py",
   "mimetype": "text/x-python",
   "name": "python",
   "nbconvert_exporter": "python",
   "pygments_lexer": "ipython3",
   "version": "3.7.3"
  }
 },
 "nbformat": 4,
 "nbformat_minor": 4
}
