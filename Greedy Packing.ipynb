{
 "cells": [
  {
   "cell_type": "code",
   "execution_count": 14,
   "metadata": {},
   "outputs": [],
   "source": [
    "class NODE():\n",
    "    left = -1\n",
    "    right = -1\n",
    "    x = 0\n",
    "    y = 0\n",
    "    prevLeaf = -1\n",
    "    nextLeaf = -1\n",
    "      \n",
    "    def __init__(self, x, y):\n",
    "        self.__x = x;\n",
    "        self.__y = y;"
   ]
  },
  {
   "cell_type": "code",
   "execution_count": 5,
   "metadata": {},
   "outputs": [],
   "source": [
    "def calculateAreas():\n",
    "    rectSize = RECT.length\n",
    "    areas = [rectSize]\n",
    "    for i in range (rectSize):\n",
    "        areas[i] = RECT[i][0] * RECT[i][1]"
   ]
  },
  {
   "cell_type": "code",
   "execution_count": 8,
   "metadata": {},
   "outputs": [],
   "source": [
    "def testOverlapping(rectNumber, currentNode):\n",
    "    k = sortedIndexes[rectNumber]\n",
    "    cx = currentNode.x\n",
    "    cy = currentNode.y\n",
    "    cw = RECT[k][0]\n",
    "    ch = RECT[k][1]\n",
    "      \n",
    "    for j in range (rectNumber):\n",
    "            jk = sortedIndexes[j];\n",
    "            jw = RECT[jk][0]\n",
    "            jh = RECT[jk][1]\n",
    "            jx = RESULT[jk][0]\n",
    "            jy = RESULT[jk][1]\n",
    "                     \n",
    "    if (cx < jx + jw and cy < jy + jh and cx + cw > jx and cy + ch > jy):\n",
    "        return true;\n",
    "      \n",
    "    return false;"
   ]
  },
  {
   "cell_type": "code",
   "execution_count": 10,
   "metadata": {},
   "outputs": [],
   "source": [
    "def putBox(bestNode, currentBoxPos):\n",
    "    RESULT[currentBoxPos][0] = bestNode.x\n",
    "    RESULT[currentBoxPos][1] = bestNode.y"
   ]
  },
  {
   "cell_type": "code",
   "execution_count": null,
   "metadata": {},
   "outputs": [],
   "source": [
    "def updateLinkedList(bestNode, newRight, newLeft):\n",
    "    if (bestNode.prevLeaf != -1)\n",
    "        nodes.get(bestNode.prevLeaf).nextLeaf = nodeSize\n",
    "    newRight.prevLeaf = bestNode.prevLeaf\n",
    "    newRight.nextLeaf = nodeSize + 1\n",
    "    newLeft.prevLeaf = nodeSize\n",
    "    newLeft.nextLeaf = bestNode.nextLeaf\n",
    "    if (bestNode.nextLeaf != -1)\n",
    "        nodes.get(bestNode.nextLeaf).prevLeaf = nodeSize + 1"
   ]
  },
  {
   "cell_type": "code",
   "execution_count": 29,
   "metadata": {},
   "outputs": [
    {
     "ename": "SyntaxError",
     "evalue": "invalid syntax (<ipython-input-29-d51d3cceff4b>, line 55)",
     "output_type": "error",
     "traceback": [
      "\u001b[1;36m  File \u001b[1;32m\"<ipython-input-29-d51d3cceff4b>\"\u001b[1;36m, line \u001b[1;32m55\u001b[0m\n\u001b[1;33m    if firstLeafPointer == minAreaNode\u001b[0m\n\u001b[1;37m                                      ^\u001b[0m\n\u001b[1;31mSyntaxError\u001b[0m\u001b[1;31m:\u001b[0m invalid syntax\n"
     ]
    }
   ],
   "source": [
    "def pack():\n",
    "    RESULT = [rectSize][2]\n",
    "    zero = NODE(0, 0)\n",
    "    nodes.append(zero)\n",
    "    nodeSize = 1\n",
    "      \n",
    "    currentWidth = 0\n",
    "    currentHeight = 0\n",
    "    \n",
    "    for i in range(rectSize):\n",
    "        k = sortedIndexes[i]\n",
    "        currentLeafNode = firstLeafPointer\n",
    "        minArea = 999999\n",
    "        minAreaNode = -1\n",
    "        while(true):\n",
    "            currentNode = nodes[currentLeafNode]\n",
    "            \n",
    "            newWidth = currentWidth\n",
    "            newHeight = currentHeight\n",
    "            \n",
    "            if currentNode.x + RECT[k][0] > currentWidth:\n",
    "                newWidth = currentNode.X + RECT[k][0]\n",
    "                \n",
    "            if currentNode.y + RECT[k][1] > currentHeight:\n",
    "                newWidth = currentNode.X + RECT[k][1] \n",
    "\n",
    "            if newWidth <= W and newHeight <= H:\n",
    "                newArea = newWidth * newHeight\n",
    "            \n",
    "                if minArea > newArea :\n",
    "                    if testOverlapping(i, currentNode)== False :\n",
    "                        minArea = newArea\n",
    "                        minAreaNode = currentLeafNode\n",
    "                    \n",
    "               \n",
    "            if currentNode.nextLeaf == -1:\n",
    "                break\n",
    "            currentLeafNode = currentNode.nextLeaf\n",
    "         \n",
    "        if minAreaNode == -1 :\n",
    "            RESULT[k][0] = width\n",
    "            RESULT[k][1] = height\n",
    "        else :\n",
    "            bestNode = nodes.get(minAreaNode)\n",
    "            putBox(bestNode, k)\n",
    "            \n",
    "            currentWidth = max(currentWidth, bestNode.x + RECT[k][0])\n",
    "            currentHeight = max(currentHeight, bestNode.y + RECT[k][1])\n",
    "            \n",
    "            newRight = NODE(bestNode.x + RECT[k][0], bestNode.y)\n",
    "            newLeft = NODE(bestNode.x, bestNode.y + RECT[k][1])\n",
    "            \n",
    "            updateLinkedList(bestNode, newRight, newLeft)\n",
    "            \n",
    "            if firstLeafPointer == minAreaNode\n",
    "                firstLeafPointer = nodeSize\n",
    "            \n",
    "            nodes.add(newRight)\n",
    "            nodes.add(newLeft)\n",
    "            \n",
    "            bestNode.right = nodeSize\n",
    "            bestNode.left = nodeSize + 1\n",
    "            \n",
    "            nodeSize += 2;\n",
    "\n",
    "      \n",
    "   \n"
   ]
  },
  {
   "cell_type": "code",
   "execution_count": 4,
   "metadata": {},
   "outputs": [],
   "source": [
    "class GREEDY_PACK():\n",
    "    \n",
    "    RECT =[]\n",
    "    RESULT = [] \n",
    "    W = 0\n",
    "    H = 0\n",
    "    rectSize = 0\n",
    "    areas = [] \n",
    "    sortedIndexes = []\n",
    "    firstLeafPointer = 0\n",
    "    nodes = []\n",
    "    nodeSize = 0\n",
    "   \n",
    "\n",
    "    def __init__(self,rect, w, h):\n",
    "        RECT = rect; W = w; H = h;\n",
    "        calculateAreas()\n",
    "        sortAreas()\n",
    "        pack()"
   ]
  }
 ],
 "metadata": {
  "kernelspec": {
   "display_name": "Python 3",
   "language": "python",
   "name": "python3"
  },
  "language_info": {
   "codemirror_mode": {
    "name": "ipython",
    "version": 3
   },
   "file_extension": ".py",
   "mimetype": "text/x-python",
   "name": "python",
   "nbconvert_exporter": "python",
   "pygments_lexer": "ipython3",
   "version": "3.7.1"
  }
 },
 "nbformat": 4,
 "nbformat_minor": 2
}
